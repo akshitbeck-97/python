{
 "cells": [
  {
   "cell_type": "code",
   "execution_count": 1,
   "metadata": {},
   "outputs": [],
   "source": [
    "#ans1\n",
    "shipements={101: [1,3,'14-03-2020','25-03-2020','Area1', 'Area6', 'Delivered', 198],\n",
    " 102:[4,1,'18-06-2020','09-07-2020', 'Area2','Area4','Delivered',275],\n",
    " 103:[2,3,'01-12-2020','NULL','Area5','Area1','In-transit',200], \n",
    " 104:[1,5,'23-06-2020','25-06-2020','Area1','Area4','Delivered',314]    ,\n",
    " 105:[3,4,'29-08-2020','10-09-2020','Area5','Area3','Delivered',275]  ,\n",
    " 106:[5,2,'28-06-2020','NULL','Area3','Area1','In-transit',270] }"
   ]
  },
  {
   "cell_type": "code",
   "execution_count": 2,
   "metadata": {},
   "outputs": [
    {
     "data": {
      "text/plain": [
       "{101: [1, 3, '14-03-2020', '25-03-2020', 'Area1', 'Area6', 'Delivered', 198],\n",
       " 102: [4, 1, '18-06-2020', '09-07-2020', 'Area2', 'Area4', 'Delivered', 275],\n",
       " 103: [2, 3, '01-12-2020', 'NULL', 'Area5', 'Area1', 'In-transit', 200],\n",
       " 104: [1, 5, '23-06-2020', '25-06-2020', 'Area1', 'Area4', 'Delivered', 314],\n",
       " 105: [3, 4, '29-08-2020', '10-09-2020', 'Area5', 'Area3', 'Delivered', 275],\n",
       " 106: [5, 2, '28-06-2020', 'NULL', 'Area3', 'Area1', 'In-transit', 270]}"
      ]
     },
     "execution_count": 2,
     "metadata": {},
     "output_type": "execute_result"
    }
   ],
   "source": [
    "shipements"
   ]
  },
  {
   "cell_type": "code",
   "execution_count": 7,
   "metadata": {},
   "outputs": [],
   "source": [
    "#ans2\n",
    "clients={1:[1,['phillip']],2:[2,['Omega lll']],3:[3,['Ramaya']],\n",
    "                      4:[4,['Romesh']],5:[5,['john']]}"
   ]
  },
  {
   "cell_type": "code",
   "execution_count": 5,
   "metadata": {},
   "outputs": [],
   "source": [
    "clients={1:'phillip',2:'Omega lll',3:'Ramaya',4:'Romesh',5:'john'}"
   ]
  },
  {
   "cell_type": "code",
   "execution_count": 6,
   "metadata": {},
   "outputs": [
    {
     "data": {
      "text/plain": [
       "{1: 'phillip', 2: 'Omega lll', 3: 'Ramaya', 4: 'Romesh', 5: 'john'}"
      ]
     },
     "execution_count": 6,
     "metadata": {},
     "output_type": "execute_result"
    }
   ],
   "source": [
    "clients"
   ]
  },
  {
   "cell_type": "code",
   "execution_count": 11,
   "metadata": {},
   "outputs": [
    {
     "name": "stdout",
     "output_type": "stream",
     "text": [
      "101 [1, 3, '14-03-2020', '25-03-2020', 'Area1', 'Area6', 'Delivered', 198]\n",
      "102 [4, 1, '18-06-2020', '09-07-2020', 'Area2', 'Area4', 'Delivered', 275]\n",
      "103 [2, 3, '01-12-2020', 'NULL', 'Area5', 'Area1', 'In-transit', 200]\n",
      "104 [1, 5, '23-06-2020', '25-06-2020', 'Area1', 'Area4', 'Delivered', 314]\n",
      "105 [3, 4, '29-08-2020', '10-09-2020', 'Area5', 'Area3', 'Delivered', 275]\n",
      "106 [5, 2, '28-06-2020', 'NULL', 'Area3', 'Area1', 'In-transit', 270]\n"
     ]
    }
   ],
   "source": [
    "for key,value in shipements.items():\n",
    "    print(key,value)"
   ]
  },
  {
   "cell_type": "code",
   "execution_count": 33,
   "metadata": {},
   "outputs": [],
   "source": [
    "#ans3\n",
    "for x in shipements.keys():\n",
    "    for y in clients.keys():\n",
    "        if(shipements[x][0]==y):\n",
    "            shipements[x][0]=clients[y]\n",
    "        if(shipements[x][1]==y):\n",
    "            shipements[x][1]=clients[y]\n",
    "            \n",
    "           \n",
    "    \n",
    "            \n",
    "   \n",
    "    "
   ]
  },
  {
   "cell_type": "code",
   "execution_count": 34,
   "metadata": {},
   "outputs": [
    {
     "data": {
      "text/plain": [
       "{101: ['phillip',\n",
       "  'Ramaya',\n",
       "  '14-03-2020',\n",
       "  '25-03-2020',\n",
       "  'Area1',\n",
       "  'Area6',\n",
       "  'Delivered',\n",
       "  198],\n",
       " 102: ['Romesh',\n",
       "  'phillip',\n",
       "  '18-06-2020',\n",
       "  '09-07-2020',\n",
       "  'Area2',\n",
       "  'Area4',\n",
       "  'Delivered',\n",
       "  275],\n",
       " 103: ['Omega lll',\n",
       "  'Ramaya',\n",
       "  '01-12-2020',\n",
       "  'NULL',\n",
       "  'Area5',\n",
       "  'Area1',\n",
       "  'In-transit',\n",
       "  200],\n",
       " 104: ['phillip',\n",
       "  'john',\n",
       "  '23-06-2020',\n",
       "  '25-06-2020',\n",
       "  'Area1',\n",
       "  'Area4',\n",
       "  'Delivered',\n",
       "  314],\n",
       " 105: ['Ramaya',\n",
       "  'Romesh',\n",
       "  '29-08-2020',\n",
       "  '10-09-2020',\n",
       "  'Area5',\n",
       "  'Area3',\n",
       "  'Delivered',\n",
       "  275],\n",
       " 106: ['john',\n",
       "  'Omega lll',\n",
       "  '28-06-2020',\n",
       "  'NULL',\n",
       "  'Area3',\n",
       "  'Area1',\n",
       "  'In-transit',\n",
       "  270]}"
      ]
     },
     "execution_count": 34,
     "metadata": {},
     "output_type": "execute_result"
    }
   ],
   "source": [
    "shipements"
   ]
  },
  {
   "cell_type": "code",
   "execution_count": 19,
   "metadata": {},
   "outputs": [
    {
     "data": {
      "text/plain": [
       "1"
      ]
     },
     "execution_count": 19,
     "metadata": {},
     "output_type": "execute_result"
    }
   ],
   "source": [
    "list(clients.keys())[0]"
   ]
  },
  {
   "cell_type": "code",
   "execution_count": 36,
   "metadata": {},
   "outputs": [
    {
     "name": "stdout",
     "output_type": "stream",
     "text": [
      "['phillip', 'Ramaya', '14-03-2020', '25-03-2020', 'Area1', 'Area6', 'Delivered', 198]\n",
      "['phillip', 'john', '23-06-2020', '25-06-2020', 'Area1', 'Area4', 'Delivered', 314]\n"
     ]
    }
   ],
   "source": [
    "#ans4\n",
    "for x in shipements.keys():\n",
    "    if(shipements[x][0]=='phillip'):\n",
    "        print(shipements[x])\n",
    "    "
   ]
  },
  {
   "cell_type": "code",
   "execution_count": 43,
   "metadata": {},
   "outputs": [
    {
     "name": "stdout",
     "output_type": "stream",
     "text": [
      "['phillip', 'Ramaya', '14-03-2020', '25-03-2020', 'Area1', 'Area6', 'Delivered', 198]\n",
      "['Omega lll', 'Ramaya', '01-12-2020', 'NULL', 'Area5', 'Area1', 'In-transit', 200]\n"
     ]
    }
   ],
   "source": [
    "#ans5\n",
    "for x in shipements.keys():\n",
    "    if(shipements[x][1]=='Ramaya'):\n",
    "        print(shipements[x])"
   ]
  },
  {
   "cell_type": "code",
   "execution_count": 44,
   "metadata": {},
   "outputs": [
    {
     "name": "stdout",
     "output_type": "stream",
     "text": [
      "['Omega lll', 'Ramaya', '01-12-2020', 'NULL', 'Area5', 'Area1', 'In-transit', 200]\n",
      "['john', 'Omega lll', '28-06-2020', 'NULL', 'Area3', 'Area1', 'In-transit', 270]\n"
     ]
    }
   ],
   "source": [
    "#ans6\n",
    "for x in shipements.keys():\n",
    "    if(shipements[x][6]=='In-transit'):\n",
    "        print(shipements[x])"
   ]
  },
  {
   "cell_type": "code",
   "execution_count": 155,
   "metadata": {},
   "outputs": [
    {
     "name": "stdout",
     "output_type": "stream",
     "text": [
      "['phillip', 'john', '23-06-2020', '25-06-2020', 'Area1', 'Area4', 'Delivered', 314]\n"
     ]
    }
   ],
   "source": [
    "#ans7\n",
    "for x in shipements.keys():\n",
    "    if(shipements[x][3]!='NULL'):\n",
    "        s=date(int((shipements[x][2]).split('-')[2]),int((shipements[x][2]).split('-')[1]),\n",
    "     int((shipements[x][2]).split('-')[0]))-date(int((shipements[x][3]).split('-')[2]),\n",
    "     int((shipements[x][3]).split('-')[1]),int((shipements[x][3]).split('-')[0]))\n",
    "        if(abs(s.days)<=7):\n",
    "            print(shipements[x])"
   ]
  },
  {
   "cell_type": "code",
   "execution_count": 176,
   "metadata": {},
   "outputs": [
    {
     "name": "stdout",
     "output_type": "stream",
     "text": [
      "['Romesh', 'phillip', '18-06-2020', '09-07-2020', 'Area2', 'Area4', 'Delivered', 275]\n",
      "['Omega lll', 'Ramaya', '01-12-2020', 'NULL', 'Area5', 'Area1', 'In-transit', 200]\n",
      "['john', 'Omega lll', '28-06-2020', 'NULL', 'Area3', 'Area1', 'In-transit', 270]\n"
     ]
    }
   ],
   "source": [
    "#ans8\n",
    "from datetime import date\n",
    "for x in shipements.keys():\n",
    "    if(shipements[x][3]=='NULL'):\n",
    "        print(shipements[x])\n",
    "    if(shipements[x][3]!='NULL'):\n",
    "        s=date(int((shipements[x][2]).split('-')[2]),int((shipements[x][2]).split('-')[1]),\n",
    "     int((shipements[x][2]).split('-')[0]))-date(int((shipements[x][3]).split('-')[2]),\n",
    "     int((shipements[x][3]).split('-')[1]),int((shipements[x][3]).split('-')[0]))\n",
    "        if(abs(s.days)>15):\n",
    "            print(shipements[x])\n",
    "    \n",
    "    "
   ]
  },
  {
   "cell_type": "code",
   "execution_count": 19,
   "metadata": {},
   "outputs": [],
   "source": [
    "#ans9\n",
    "import numpy as np\n",
    "a=np.arange(1,37).reshape(6,6)\n",
    "a[0]=[0,1,0,0,0,1]\n",
    "a[1]=[1,0,1,1,0,0]\n",
    "a[2]=[0,1,0,1,0,0]\n",
    "a[3]=[0,1,1,0,1,0]\n",
    "a[4]=[0,0,0,1,0,0]\n",
    "a[5]=[1,0,0,0,0,0]"
   ]
  },
  {
   "cell_type": "code",
   "execution_count": 37,
   "metadata": {},
   "outputs": [
    {
     "name": "stdout",
     "output_type": "stream",
     "text": [
      "Area 1 ->2 ->6 ->Area 2 ->1 ->3 ->4 ->Area 3 ->2 ->4 ->Area 4 ->2 ->3 ->5 ->Area 5 ->4 ->Area 6 ->1 ->"
     ]
    }
   ],
   "source": [
    "for i in range(0,6):\n",
    "    print(\"Area\",i+1,\"->\",end=\"\")\n",
    "    for j in range(0,6):\n",
    "        if(a[i][j]==1):\n",
    "            print(j+1,\"->\",end=\"\")\n",
    "            "
   ]
  },
  {
   "cell_type": "code",
   "execution_count": 37,
   "metadata": {},
   "outputs": [
    {
     "data": {
      "text/plain": [
       "{101: ['phillip',\n",
       "  'Ramaya',\n",
       "  '14-03-2020',\n",
       "  '25-03-2020',\n",
       "  'Area1',\n",
       "  'Area6',\n",
       "  'Delivered',\n",
       "  198],\n",
       " 102: ['Romesh',\n",
       "  'phillip',\n",
       "  '18-06-2020',\n",
       "  '09-07-2020',\n",
       "  'Area2',\n",
       "  'Area4',\n",
       "  'Delivered',\n",
       "  275],\n",
       " 103: ['Omega lll',\n",
       "  'Ramaya',\n",
       "  '01-12-2020',\n",
       "  'NULL',\n",
       "  'Area5',\n",
       "  'Area1',\n",
       "  'In-transit',\n",
       "  200],\n",
       " 104: ['phillip',\n",
       "  'john',\n",
       "  '23-06-2020',\n",
       "  '25-06-2020',\n",
       "  'Area1',\n",
       "  'Area4',\n",
       "  'Delivered',\n",
       "  314],\n",
       " 105: ['Ramaya',\n",
       "  'Romesh',\n",
       "  '29-08-2020',\n",
       "  '10-09-2020',\n",
       "  'Area5',\n",
       "  'Area3',\n",
       "  'Delivered',\n",
       "  275],\n",
       " 106: ['john',\n",
       "  'Omega lll',\n",
       "  '28-06-2020',\n",
       "  'NULL',\n",
       "  'Area3',\n",
       "  'Area1',\n",
       "  'In-transit',\n",
       "  270]}"
      ]
     },
     "execution_count": 37,
     "metadata": {},
     "output_type": "execute_result"
    }
   ],
   "source": [
    "shipements"
   ]
  },
  {
   "cell_type": "code",
   "execution_count": null,
   "metadata": {},
   "outputs": [],
   "source": []
  }
 ],
 "metadata": {
  "kernelspec": {
   "display_name": "Python 3",
   "language": "python",
   "name": "python3"
  },
  "language_info": {
   "codemirror_mode": {
    "name": "ipython",
    "version": 3
   },
   "file_extension": ".py",
   "mimetype": "text/x-python",
   "name": "python",
   "nbconvert_exporter": "python",
   "pygments_lexer": "ipython3",
   "version": "3.7.6"
  }
 },
 "nbformat": 4,
 "nbformat_minor": 4
}
